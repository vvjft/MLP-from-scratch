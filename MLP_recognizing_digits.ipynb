{
 "cells": [
  {
   "cell_type": "markdown",
   "metadata": {},
   "source": [
    "Dependencies and dataset"
   ]
  },
  {
   "cell_type": "code",
   "execution_count": 94,
   "metadata": {},
   "outputs": [
    {
     "name": "stdout",
     "output_type": "stream",
     "text": [
      "Downloading mnist-in-csv.zip to ./data\n",
      "\n"
     ]
    },
    {
     "name": "stderr",
     "output_type": "stream",
     "text": [
      "\n",
      "  0%|          | 0.00/15.2M [00:00<?, ?B/s]\n",
      "  7%|▋         | 1.00M/15.2M [00:00<00:09, 1.59MB/s]\n",
      " 20%|█▉        | 3.00M/15.2M [00:00<00:02, 4.54MB/s]\n",
      " 39%|███▉      | 6.00M/15.2M [00:00<00:01, 9.56MB/s]\n",
      " 66%|██████▌   | 10.0M/15.2M [00:01<00:00, 16.0MB/s]\n",
      " 92%|█████████▏| 14.0M/15.2M [00:01<00:00, 21.2MB/s]\n",
      "100%|██████████| 15.2M/15.2M [00:01<00:00, 13.6MB/s]\n"
     ]
    }
   ],
   "source": [
    "import numpy as np\n",
    "import pandas as pd\n",
    "import zipfile\n",
    "import os\n",
    "\n",
    "!kaggle datasets download -d oddrationale/mnist-in-csv -p ./data\n",
    "with zipfile.ZipFile('./data/mnist-in-csv.zip', 'r') as zip_ref:\n",
    "    zip_ref.extractall('./data')\n",
    "os.remove('./data/mnist-in-csv.zip')"
   ]
  },
  {
   "cell_type": "markdown",
   "metadata": {},
   "source": [
    "Define cost and activation functions"
   ]
  },
  {
   "cell_type": "code",
   "execution_count": 120,
   "metadata": {},
   "outputs": [],
   "source": [
    "def sigmoid(z):\n",
    "    return 1/(1+np.exp(-z))\n",
    "\n",
    "def sigmoid_prime(z):\n",
    "    return sigmoid(z)*(1-sigmoid(z))\n",
    "\n",
    "def cost(y,x):\n",
    "    return np.sum(0.5*(y-x)**2)\n",
    "\n",
    "def cost_prime(y,x):\n",
    "    return x-y"
   ]
  },
  {
   "cell_type": "markdown",
   "metadata": {},
   "source": [
    "Define Network class"
   ]
  },
  {
   "cell_type": "code",
   "execution_count": 96,
   "metadata": {},
   "outputs": [],
   "source": [
    "class Network:\n",
    "    def __init__(self, layers):\n",
    "        self.L = layers\n",
    "        self.W = [np.random.randn(x,y) for x,y in zip(self.L[1:],self.L[0:-1])]\n",
    "        self.B = [np.random.randn(x,1) for x in self.L[1:]]\n",
    "\n",
    "    def feedforward(self,a):\n",
    "        a=a.reshape(-1,1)\n",
    "        for w,b in zip(self.W,self.B):\n",
    "            a = sigmoid(np.dot(w,a)+b)\n",
    "        return a\n",
    "\n",
    "    def train(self, X_train, Y_train, epochs, eta):\n",
    "        for epoch in range(epochs):\n",
    "            for i in range(X_train.shape[1]):\n",
    "                a = X_train[:,i].reshape(-1,1)\n",
    "                y = Y_train[:,i].reshape(-1,1)\n",
    "                self.learn(a,y, eta)\n",
    "                \n",
    "    def learn(self, a, y, eta):\n",
    "        Z=[]\n",
    "        A=[]\n",
    "        A.append(a)\n",
    "        for w,b in zip(self.W,self.B):\n",
    "            z = np.dot(w,A[-1])+b\n",
    "            a=sigmoid(z)\n",
    "            Z.append(z)\n",
    "            A.append(a)\n",
    "\n",
    "        self.__backprob(y, A, Z, eta)\n",
    "\n",
    "    def __backprob(self,y,A,Z, eta):\n",
    "        D = []\n",
    "        D.append(cost_prime(y,A[-1])*sigmoid_prime(Z[-1]))\n",
    "        for i in range(1,len(Z)):\n",
    "            D.insert(0, np.dot(self.W[-i].T,D[0])*sigmoid_prime(Z[-i-1]))\n",
    "        B_shifts = D\n",
    "        W_shifts = []\n",
    "        for a,d in zip(A[0:-1],D):\n",
    "            W_shifts.append(np.dot(d,a.T))\n",
    "\n",
    "        for i in range(len(self.W)):\n",
    "            self.W[i] -= eta * W_shifts[i]\n",
    "            self.B[i] -= eta * B_shifts[i] \n",
    "\n",
    "    def evaluate(self, X_test, Y_test):\n",
    "        correct_predictions = 0\n",
    "        for i in range(X_test.shape[1]):\n",
    "            \n",
    "            a = X_test[:,i]\n",
    "            output = self.feedforward(a)\n",
    "            prediction = np.argmax(output)\n",
    "            if prediction == np.argmax(Y_test[:,i]):\n",
    "                correct_predictions += 1\n",
    "        return correct_predictions, correct_predictions/(i+1)"
   ]
  },
  {
   "cell_type": "markdown",
   "metadata": {},
   "source": [
    "\n",
    "`feedforward()` - calculates the output of the network.\n",
    "<br>\n",
    "`train()` - prepares training  for training (each training input needs to be of size)\n",
    "`learn()` - calculates activations in each layer and stores it in A list (similar for z, where z is a dot product of weights and previous activation plus bias). Then it calls `backprob()`.\n",
    "<br>\n",
    "`backprob()` - performs backpropagation to update weights and biases."
   ]
  },
  {
   "cell_type": "markdown",
   "metadata": {},
   "source": [
    "Preprocess data"
   ]
  },
  {
   "cell_type": "code",
   "execution_count": null,
   "metadata": {},
   "outputs": [],
   "source": [
    "train = pd.read_csv('data\\mnist_train.csv').to_numpy()\n",
    "test = pd.read_csv('data\\mnist_test.csv').to_numpy()\n",
    "\n",
    "X_train, Y_train = train[:,1:] / 255 , train[:,0]\n",
    "X_test, Y_test = test[:,1:] / 255, test[:,0] \n",
    "\n",
    "X_train=X_train.T\n",
    "X_test=X_test.T\n",
    "\n",
    "Y_train = np.eye(10)[Y_train].T\n",
    "Y_test = np.eye(10)[Y_test].T"
   ]
  },
  {
   "cell_type": "code",
   "execution_count": 141,
   "metadata": {},
   "outputs": [],
   "source": [
    "net = Network([784,100,10])\n",
    "a=X_train[:,0:]\n",
    "y=Y_train[:,0:]"
   ]
  },
  {
   "cell_type": "code",
   "execution_count": 142,
   "metadata": {},
   "outputs": [],
   "source": [
    "net.train(a,y,100, 0.5)"
   ]
  },
  {
   "cell_type": "code",
   "execution_count": 139,
   "metadata": {},
   "outputs": [
    {
     "data": {
      "text/plain": [
       "array([[9.99999769e-01],\n",
       "       [8.39796869e-14],\n",
       "       [1.77719158e-07],\n",
       "       [1.51154982e-11],\n",
       "       [1.84063785e-12],\n",
       "       [2.64546408e-06],\n",
       "       [3.01327463e-07],\n",
       "       [1.24442315e-10],\n",
       "       [5.12831393e-10],\n",
       "       [5.69167700e-06]])"
      ]
     },
     "execution_count": 139,
     "metadata": {},
     "output_type": "execute_result"
    }
   ],
   "source": [
    "net.feedforward(a[:,1])"
   ]
  },
  {
   "cell_type": "code",
   "execution_count": 143,
   "metadata": {},
   "outputs": [
    {
     "data": {
      "text/plain": [
       "(9691, 0.9691)"
      ]
     },
     "execution_count": 143,
     "metadata": {},
     "output_type": "execute_result"
    }
   ],
   "source": [
    "net.evaluate(X_test, Y_test)"
   ]
  }
 ],
 "metadata": {
  "kernelspec": {
   "display_name": "Python 3",
   "language": "python",
   "name": "python3"
  },
  "language_info": {
   "codemirror_mode": {
    "name": "ipython",
    "version": 3
   },
   "file_extension": ".py",
   "mimetype": "text/x-python",
   "name": "python",
   "nbconvert_exporter": "python",
   "pygments_lexer": "ipython3",
   "version": "3.10.10"
  }
 },
 "nbformat": 4,
 "nbformat_minor": 2
}
