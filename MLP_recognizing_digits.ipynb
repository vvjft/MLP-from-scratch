{
 "cells": [
  {
   "cell_type": "markdown",
   "metadata": {},
   "source": [
    "Dependencies and dataset"
   ]
  },
  {
   "cell_type": "code",
   "execution_count": 5,
   "metadata": {},
   "outputs": [],
   "source": [
    "import numpy as np\n",
    "import pandas as pd\n",
    "import zipfile\n",
    "import os"
   ]
  },
  {
   "cell_type": "code",
   "execution_count": 2,
   "metadata": {},
   "outputs": [
    {
     "name": "stdout",
     "output_type": "stream",
     "text": [
      "Downloading mnist-in-csv.zip to ./data\n",
      "\n"
     ]
    },
    {
     "name": "stderr",
     "output_type": "stream",
     "text": [
      "\n",
      "  0%|          | 0.00/15.2M [00:00<?, ?B/s]\n",
      "  7%|▋         | 1.00M/15.2M [00:00<00:08, 1.72MB/s]\n",
      " 20%|█▉        | 3.00M/15.2M [00:00<00:02, 4.80MB/s]\n",
      " 39%|███▉      | 6.00M/15.2M [00:00<00:00, 9.75MB/s]\n",
      " 72%|███████▏  | 11.0M/15.2M [00:01<00:00, 18.1MB/s]\n",
      "100%|██████████| 15.2M/15.2M [00:01<00:00, 14.5MB/s]\n"
     ]
    }
   ],
   "source": [
    "!kaggle datasets download -d oddrationale/mnist-in-csv -p ./data\n",
    "with zipfile.ZipFile('./data/mnist-in-csv.zip', 'r') as zip_ref:\n",
    "    zip_ref.extractall('./data')\n",
    "os.remove('./data/mnist-in-csv.zip')"
   ]
  },
  {
   "cell_type": "markdown",
   "metadata": {},
   "source": [
    "Define cost and activation functions"
   ]
  },
  {
   "cell_type": "code",
   "execution_count": 39,
   "metadata": {},
   "outputs": [],
   "source": [
    "def sigmoid(z):\n",
    "    return 1/(1+np.exp(-z))\n",
    "\n",
    "def sigmoid_prime(z):\n",
    "    return sigmoid(z)*(1-sigmoid(z))\n",
    "\n",
    "def cost(y,x):\n",
    "    #return np.sum(0.5*(y-x)**2)\n",
    "    return np.sum(-y*np.log(x) - (1-y)*np.log(1-x))\n",
    "\n",
    "#def cost_prime(y,x):\n",
    "#    return x-y\n",
    "\n",
    "def delta(y,x):\n",
    "    return x-y"
   ]
  },
  {
   "cell_type": "markdown",
   "metadata": {},
   "source": [
    "Define Network class"
   ]
  },
  {
   "cell_type": "code",
   "execution_count": 51,
   "metadata": {},
   "outputs": [],
   "source": [
    "class Network:\n",
    "    def __init__(self, layers):\n",
    "        self.L = layers\n",
    "        self.W = [np.random.randn(x,y)/np.sqrt(y) for x,y in zip(self.L[1:],self.L[0:-1])]\n",
    "        self.B = [np.random.randn(x,1) for x in self.L[1:]]\n",
    "\n",
    "    def feedforward(self,a):\n",
    "        a=a.reshape(-1,1)\n",
    "        for w,b in zip(self.W,self.B):\n",
    "            a = sigmoid(np.dot(w,a)+b)\n",
    "        return a\n",
    "\n",
    "    def SGD(self, train, batch_size, epochs, eta, lmbda, valid=None):\n",
    "        X_train, Y_train = train[0], train[1]\n",
    "        for epoch in range(epochs):\n",
    "            X_batches = np.array_split(X_train, X_train.shape[1] // batch_size, axis=1)\n",
    "            Y_batches = np.array_split(Y_train, Y_train.shape[1] // batch_size, axis=1)\n",
    "            for X_batch, Y_batch in zip(X_batches, Y_batches):  \n",
    "                nabla_B = [np.zeros(b.shape) for b in self.B]\n",
    "                nabla_W = [np.zeros(w.shape) for w in self.W]\n",
    "                for i in range(X_batch.shape[1]):\n",
    "                    a = X_batch[:,i].reshape(-1,1)\n",
    "                    y = Y_batch[:,i].reshape(-1,1)\n",
    "                    W_shifts, B_shifts = self.train(a, y)\n",
    "                    nabla_B = [nb+dnb for nb, dnb in zip(nabla_B, B_shifts)] \n",
    "                    nabla_W = [nw+dnw for nw, dnw in zip(nabla_W, W_shifts)]\n",
    "                self.W = [w-eta*nw/X_batch.shape[1] - eta*lmbda*w/X_train.shape[1] for w, nw in zip(self.W, nabla_W)] \n",
    "                self.B = [b-eta*nb/X_batch.shape[1] for b, nb in zip(self.B, nabla_B)]\n",
    "            if valid is not None:\n",
    "                print(\"epoch: \", epoch, \"ACC: \", self.evaluate(valid[0], valid[1])[1])\n",
    "                \n",
    "    def train(self, a, y):\n",
    "        Z=[]\n",
    "        A=[]\n",
    "        A.append(a)\n",
    "        for w,b in zip(self.W,self.B):\n",
    "            z = np.dot(w,A[-1])+b\n",
    "            a=sigmoid(z)\n",
    "            Z.append(z)\n",
    "            A.append(a)\n",
    "        return self.__backprob(y, A, Z)\n",
    "\n",
    "    def __backprob(self,y,A,Z):\n",
    "        D = []\n",
    "        #D.append(cost_prime(y,A[-1])*sigmoid_prime(Z[-1]))\n",
    "        D.append(delta(y,A[-1]))\n",
    "        for i in range(1,len(Z)):\n",
    "            D.insert(0, np.dot(self.W[-i].T,D[0])*sigmoid_prime(Z[-i-1]))\n",
    "        B_shifts = D\n",
    "        W_shifts = []\n",
    "        for a,d in zip(A[0:-1],D):\n",
    "            W_shifts.append(np.dot(d,a.T))\n",
    "        return W_shifts, B_shifts\n",
    "\n",
    "    def evaluate(self, X_test, Y_test):\n",
    "        correct_predictions = 0\n",
    "        for i in range(X_test.shape[1]):\n",
    "            \n",
    "            a = X_test[:,i]\n",
    "            output = self.feedforward(a)\n",
    "            prediction = np.argmax(output)\n",
    "            if prediction == np.argmax(Y_test[:,i]):\n",
    "                correct_predictions += 1\n",
    "        return correct_predictions, correct_predictions/(i+1)"
   ]
  },
  {
   "cell_type": "markdown",
   "metadata": {},
   "source": [
    "\n",
    "`feedforward()` - calculates the output of the network.\n",
    "<br>\n",
    "`train()` - prepares training  for training (each training input needs to be a 2-D array (x,1)), then it calls `learn()`.\n",
    "<br>\n",
    "`learn()` - calculates activations in each layer and stores it in A list (similar for z, where z is a dot product of weights and previous activation plus bias). Then it calls `backprob()`.\n",
    "<br>\n",
    "`backprob()` - performs backpropagation to update weights and biases."
   ]
  },
  {
   "cell_type": "markdown",
   "metadata": {},
   "source": [
    "Preprocess data"
   ]
  },
  {
   "cell_type": "code",
   "execution_count": 7,
   "metadata": {},
   "outputs": [],
   "source": [
    "train = pd.read_csv('data\\mnist_train.csv').to_numpy()\n",
    "test = pd.read_csv('data\\mnist_test.csv').to_numpy()\n",
    "\n",
    "X_train, Y_train = train[:,1:] / 255 , train[:,0]\n",
    "X_test, Y_test = test[:,1:] / 255, test[:,0] \n",
    "\n",
    "#permuation = np.random.permutation(X_train.shape[1])\n",
    "X_train=X_train.T\n",
    "X_valid = X_train[:,:10000]\n",
    "X_train = X_train[:,10000:]\n",
    "X_test=X_test.T\n",
    "\n",
    "Y_train = np.eye(10)[Y_train].T\n",
    "Y_valid = Y_train[:,:10000]\n",
    "Y_train = Y_train[:,10000:]\n",
    "Y_test = np.eye(10)[Y_test].T"
   ]
  },
  {
   "cell_type": "markdown",
   "metadata": {},
   "source": [
    "Set up network"
   ]
  },
  {
   "cell_type": "code",
   "execution_count": 52,
   "metadata": {},
   "outputs": [],
   "source": [
    "net = Network([784,30,10])\n",
    "train = [X_train, Y_train]\n",
    "valid = [X_valid, Y_valid]"
   ]
  },
  {
   "cell_type": "code",
   "execution_count": 55,
   "metadata": {},
   "outputs": [
    {
     "name": "stdout",
     "output_type": "stream",
     "text": [
      "epoch:  0 ACC:  0.9471\n",
      "epoch:  1 ACC:  0.949\n",
      "epoch:  2 ACC:  0.9509\n",
      "epoch:  3 ACC:  0.9519\n",
      "epoch:  4 ACC:  0.9529\n",
      "epoch:  5 ACC:  0.9533\n",
      "epoch:  6 ACC:  0.9519\n",
      "epoch:  7 ACC:  0.9515\n",
      "epoch:  8 ACC:  0.9519\n",
      "epoch:  9 ACC:  0.9522\n",
      "epoch:  10 ACC:  0.952\n",
      "epoch:  11 ACC:  0.9507\n",
      "epoch:  12 ACC:  0.9507\n",
      "epoch:  13 ACC:  0.9479\n",
      "epoch:  14 ACC:  0.9489\n",
      "epoch:  15 ACC:  0.9489\n",
      "epoch:  16 ACC:  0.9483\n",
      "epoch:  17 ACC:  0.9492\n",
      "epoch:  18 ACC:  0.948\n",
      "epoch:  19 ACC:  0.9492\n",
      "epoch:  20 ACC:  0.95\n",
      "epoch:  21 ACC:  0.9514\n",
      "epoch:  22 ACC:  0.9511\n",
      "epoch:  23 ACC:  0.9512\n",
      "epoch:  24 ACC:  0.9506\n",
      "epoch:  25 ACC:  0.9496\n",
      "epoch:  26 ACC:  0.9488\n",
      "epoch:  27 ACC:  0.9493\n",
      "epoch:  28 ACC:  0.9497\n",
      "epoch:  29 ACC:  0.9503\n"
     ]
    }
   ],
   "source": [
    "net.SGD(train, batch_size=10, epochs=30, eta=0.5, lmbda=5.0, valid=valid)"
   ]
  },
  {
   "cell_type": "code",
   "execution_count": null,
   "metadata": {},
   "outputs": [],
   "source": []
  },
  {
   "cell_type": "code",
   "execution_count": 50,
   "metadata": {},
   "outputs": [
    {
     "data": {
      "text/plain": [
       "50000"
      ]
     },
     "execution_count": 50,
     "metadata": {},
     "output_type": "execute_result"
    }
   ],
   "source": [
    "#net.evaluate(X_test, Y_test)\n",
    "X_train.shape[1]"
   ]
  }
 ],
 "metadata": {
  "kernelspec": {
   "display_name": "Python 3",
   "language": "python",
   "name": "python3"
  },
  "language_info": {
   "codemirror_mode": {
    "name": "ipython",
    "version": 3
   },
   "file_extension": ".py",
   "mimetype": "text/x-python",
   "name": "python",
   "nbconvert_exporter": "python",
   "pygments_lexer": "ipython3",
   "version": "3.10.10"
  }
 },
 "nbformat": 4,
 "nbformat_minor": 2
}
