{
  "nbformat": 4,
  "nbformat_minor": 0,
  "metadata": {
    "colab": {
      "provenance": [],
      "gpuType": "L4",
      "authorship_tag": "ABX9TyPMNjdt24o4VSDvmGyQ4FnB",
      "include_colab_link": true
    },
    "kernelspec": {
      "name": "python3",
      "display_name": "Python 3"
    },
    "language_info": {
      "name": "python"
    },
    "accelerator": "GPU"
  },
  "cells": [
    {
      "cell_type": "markdown",
      "metadata": {
        "id": "view-in-github",
        "colab_type": "text"
      },
      "source": [
        "<a href=\"https://colab.research.google.com/github/vvjft/MLP-from-scratch/blob/main/iqa_cnn%2B%2B.ipynb\" target=\"_parent\"><img src=\"https://colab.research.google.com/assets/colab-badge.svg\" alt=\"Open In Colab\"/></a>"
      ]
    },
    {
      "cell_type": "code",
      "execution_count": 1,
      "metadata": {
        "colab": {
          "base_uri": "https://localhost:8080/"
        },
        "id": "0-A0BbLrTPdM",
        "outputId": "64adb8cc-9918-4eb8-fc22-e448fca7b7e5"
      },
      "outputs": [
        {
          "output_type": "stream",
          "name": "stdout",
          "text": [
            "Reading package lists... Done\n",
            "Building dependency tree... Done\n",
            "Reading state information... Done\n",
            "unrar is already the newest version (1:6.1.5-1).\n",
            "0 upgraded, 0 newly installed, 0 to remove and 45 not upgraded.\n"
          ]
        }
      ],
      "source": [
        "import numpy as np\n",
        "import pandas as pd\n",
        "import cv2\n",
        "import subprocess\n",
        "import os\n",
        "from scipy.signal import convolve2d\n",
        "from sklearn.model_selection import train_test_split, StratifiedShuffleSplit\n",
        "from tensorflow.keras.utils import to_categorical\n",
        "from sklearn.preprocessing import LabelEncoder\n",
        "\n",
        "!apt-get install unrar\n",
        "\n",
        "class data_loader:\n",
        "    ''' Parent class for database-specific loaders '''\n",
        "    def patch_files_exist(self):\n",
        "        '''Check if patch files are present in the directory.'''\n",
        "        return (os.path.exists(os.path.join(self.dir, 'normalized_distorted_images', 'training', 'patch_training.csv')) and\n",
        "                os.path.exists(os.path.join(self.dir, 'normalized_distorted_images', 'validation', 'patch_validation.csv')) and\n",
        "                os.path.exists(os.path.join(self.dir, 'normalized_distorted_images', 'test', 'patch_test.csv')))\n",
        "\n",
        "    def split_data(self, data1):\n",
        "        train_data, test_data = train_test_split(data1, test_size=0.2, random_state=40)\n",
        "        train_data, val_data = train_test_split(train_data, test_size=0.25, random_state=40)\n",
        "        return train_data, val_data, test_data\n",
        "\n",
        "    def normalize_and_slice(self, train_data, val_data, test_data, patch_size=32, cross=False):\n",
        "        def local_normalize(patch, P=3, Q=3, C=1):\n",
        "\n",
        "            kernel = np.ones((P, Q)) / (P * Q)\n",
        "            patch_mean = convolve2d(patch, kernel, boundary='symm', mode='same')\n",
        "            patch_sm = convolve2d(np.square(patch), kernel, boundary='symm', mode='same')\n",
        "            patch_std = np.sqrt(np.maximum(patch_sm - np.square(patch_mean), 0)) + C\n",
        "            patch_ln = (patch - patch_mean) / patch_std\n",
        "            return patch_ln.astype('float32')\n",
        "        def slice_image(image, patch_size=32):\n",
        "\n",
        "            height, width = image.shape[:2]\n",
        "            num_patches_y = height // patch_size\n",
        "            num_patches_x = width // patch_size\n",
        "            patch_count = 0\n",
        "            for i in range(num_patches_y):\n",
        "                for j in range(num_patches_x):\n",
        "                    patch = image[i*patch_size:(i+1)*patch_size, j*patch_size:(j+1)*patch_size]\n",
        "                    patch_path = os.path.join(output_dir_patches, f\"{os.path.splitext(image_filename)[0]}_patch_{patch_count}.bmp\")\n",
        "                    patch_filename = f\"{os.path.splitext(image_filename)[0]}_patch_{patch_count}.bmp\"\n",
        "                    cv2.imwrite(patch_path, patch)\n",
        "                    # Add patch info to the list\n",
        "                    self.patch_info_list.append([patch_filename, mos_value, distortion])\n",
        "                    patch_count += 1\n",
        "\n",
        "        sets = [(train_data, 'training'), (val_data, 'validation'), (test_data, 'test')]\n",
        "        print('Normalizing and slicing images...')\n",
        "\n",
        "        for (data, name) in sets:\n",
        "            output_dir_full = os.path.join(self.dir, 'normalized_distorted_images', name, 'full')\n",
        "            output_dir_patches = os.path.join(self.dir, 'normalized_distorted_images', name, 'patches')\n",
        "            norm_file_info_path = os.path.join(self.dir, 'normalized_distorted_images', name, f'norm_{name}.csv')\n",
        "            patch_file_info_path = os.path.join(self.dir, 'normalized_distorted_images', name, f'patch_{name}.csv')\n",
        "            os.makedirs(output_dir_full, exist_ok=True)\n",
        "            os.makedirs(output_dir_patches, exist_ok=True)\n",
        "            self.norm_info_list = []\n",
        "            self.patch_info_list = []\n",
        "            for row in data.itertuples(index=False):\n",
        "                image_filename = row[0]\n",
        "                mos_value = row[1]\n",
        "                distortion = row[2]\n",
        "                image_path = f'{self.dir}/distorted_images/{image_filename}'\n",
        "                image = cv2.imread(image_path)\n",
        "                if image is None:\n",
        "                    print(f\"Failed to load image: {image_filename}\")\n",
        "                    continue\n",
        "                # Normalize the image\n",
        "                image_gray = cv2.cvtColor(image, cv2.COLOR_BGR2GRAY)\n",
        "                image_normalized = local_normalize(image_gray)\n",
        "                # Save\n",
        "                image_filename = f'NORM_{image_filename.lower()}'\n",
        "                self.norm_info_list.append([image_filename, mos_value, distortion])\n",
        "                cv2.imwrite(os.path.join(output_dir_full, image_filename), image_normalized)\n",
        "                # Slice to patches\n",
        "                slice_image(image_normalized, patch_size)\n",
        "\n",
        "            norm_info_df = pd.DataFrame(self.norm_info_list, columns=['image', 'MOS', 'distortion'])\n",
        "            norm_info_df.to_csv(norm_file_info_path, index=False)\n",
        "            print(f\"[{name}]: Full image info listed in: {norm_file_info_path}.\")\n",
        "            patch_info_df = pd.DataFrame(self.patch_info_list, columns=['image', 'MOS', 'distortion'])\n",
        "            patch_info_df.to_csv(patch_file_info_path, index=False)\n",
        "            print(f\"[{name}]: Patch info listed in: {patch_file_info_path}.\")\n",
        "\n",
        "    def encode(self, dataframes):\n",
        "        '''Encodes distortion labels into one-hot vectors.'''\n",
        "        for i in range(len(dataframes)):\n",
        "            dists = dataframes[i]['distortion']\n",
        "            le = LabelEncoder()\n",
        "            y_class_encoded = le.fit_transform(dists)\n",
        "            dists_one_hot = to_categorical(y_class_encoded, num_classes=13).astype(int)\n",
        "            dataframes[i]['distortion_encoded'] = [np.array(one_hot) for one_hot in dists_one_hot]\n",
        "            dataframes[i] = dataframes[i].drop(['distortion'], axis=1)\n",
        "        return dataframes\n",
        "\n",
        "    def map2tf(self, dir, set_type, data_df):\n",
        "        '''Maps data into format excected by TensorFlow: adds chanel dimension and stores data in arrays.'''\n",
        "        images_dir = os.path.join(dir, 'normalized_distorted_images', set_type, 'patches')\n",
        "        X = []\n",
        "        y = []\n",
        "        for row in data_df.itertuples(index=False):\n",
        "            filename = row[0]\n",
        "            score = row[1]\n",
        "            file_path = os.path.join(images_dir, filename)\n",
        "            if filename.endswith('.bmp') and os.path.exists(file_path):\n",
        "                img = cv2.imread(file_path, cv2.IMREAD_UNCHANGED)\n",
        "                X.append(img)\n",
        "                y.append(score)\n",
        "            else:\n",
        "                print(f\"File not found: {file_path}\")\n",
        "        X = np.array(X)\n",
        "        y = np.array(y)\n",
        "        X = X[..., np.newaxis]\n",
        "        return X, y\n",
        "\n",
        "class tid2013_loader(data_loader):\n",
        "    def __init__(self, download=True, path='/content/databases'):\n",
        "        self.url = 'https://www.ponomarenko.info/tid2013/tid2013.rar'\n",
        "        self.dir = os.path.join(path, 'tid2013')\n",
        "        self.file_path = os.path.join(self.dir, 'tid2013.rar')\n",
        "        self.distortion_mapping = {1: 'wn', 2:'wnc', 3:'scn', 4:'mn', 5:'hfn', 6:'in', 7:'qn', 8: 'gblur', 9:'idn', 10: 'jpeg', 11: 'jp2k', 12:'jpegte', 13:'jp2kte'} # According to TID2013 documentation\n",
        "\n",
        "        os.makedirs(self.dir, exist_ok=True)\n",
        "        if download:\n",
        "            self.download()\n",
        "        if self.patch_files_exist():\n",
        "            print(\"Patch files found. Loading patched data...\")\n",
        "            data = self.__load_patched_data()\n",
        "        else:\n",
        "            data = self.prepare_data()\n",
        "        #self.train, self.val, self.test = self.encode(data)\n",
        "        self.train = self.map2tf(self.dir, 'training', data[0])\n",
        "        self.val = self.map2tf(self.dir, 'validation', data[1])\n",
        "        self.test = self.map2tf(self.dir, 'test', data[2])\n",
        "\n",
        "    def __load_patched_data(self):\n",
        "        # Load the existing patched data\n",
        "        columns=['image', 'MOS', 'distortion']\n",
        "        train_data = pd.read_csv(os.path.join(self.dir, 'normalized_distorted_images', 'training', 'patch_training.csv'))\n",
        "        val_data = pd.read_csv(os.path.join(self.dir, 'normalized_distorted_images', 'validation', 'patch_validation.csv'))\n",
        "        test_data = pd.read_csv(os.path.join(self.dir, 'normalized_distorted_images', 'test', 'patch_test.csv'))\n",
        "        return [train_data, val_data, test_data]\n",
        "\n",
        "    def download(self):\n",
        "        try:\n",
        "            print(f\"Downloading dataset from {self.url}...\")\n",
        "            !wget {self.url} -P {self.dir}\n",
        "            !unrar x -inul {os.path.join(self.dir, 'tid2013.rar')} {self.dir}\n",
        "            print(f\"Dataset downloaded and extracted in '{self.dir}'\")\n",
        "        except Exception as e:\n",
        "            print(f\"Failed to download dataset: {e}.\")\n",
        "            return False\n",
        "\n",
        "    def prepare_data(self, filter=True):\n",
        "        '''Processes data.'''\n",
        "        data_path = os.path.join(self.dir, 'mos_with_names.txt')\n",
        "        data = pd.read_csv(data_path, header=None, delimiter=' ')\n",
        "        data = data.iloc[:, [1, 0]]  # swap column order\n",
        "        data.columns = ['image', 'MOS']\n",
        "        data['distortion'] = data['image'].apply(lambda x: self.distortion_mapping.get(int(x.split('_')[1]), 'other'))\n",
        "        if filter:\n",
        "            data = data[data['distortion'].isin(self.distortion_mapping.values())]\n",
        "        data.to_csv('databases/tid2013/mos_with_names.csv', index=False)\n",
        "\n",
        "        train_data, val_data, test_data = self.split_data(data)\n",
        "        self.normalize_and_slice(train_data, val_data, test_data)\n",
        "\n",
        "        train_data = pd.read_csv(f'{self.dir}/normalized_distorted_images/training/patch_training.csv')\n",
        "        val_data = pd.read_csv(f'{self.dir}/normalized_distorted_images/validation/patch_validation.csv')\n",
        "        test_data = pd.read_csv(f'{self.dir}/normalized_distorted_images/test/patch_test.csv')\n",
        "        return [train_data, val_data, test_data]"
      ]
    },
    {
      "cell_type": "markdown",
      "source": [
        "If the download is slow, stop it, delete databases directory (!rm)\n",
        " and run it again."
      ],
      "metadata": {
        "id": "k1nG-AgVZX5f"
      }
    },
    {
      "cell_type": "code",
      "source": [
        "#!rm -r 'databases/'"
      ],
      "metadata": {
        "id": "OMDIR3kFX6-E"
      },
      "execution_count": 3,
      "outputs": []
    },
    {
      "cell_type": "code",
      "source": [
        "tid2013_loader = tid2013_loader(download=True)\n",
        "\n",
        "X_train, y_train = tid2013_loader.train\n",
        "X_val, y_val = tid2013_loader.val\n",
        "X_test, y_test = tid2013_loader.test"
      ],
      "metadata": {
        "id": "0GLRKt2kneZP"
      },
      "execution_count": 8,
      "outputs": []
    },
    {
      "cell_type": "code",
      "source": [
        "import tensorflow as tf\n",
        "from tensorflow.keras import layers, models\n",
        "# Create a simple neural network model\n",
        "model = models.Sequential([\n",
        "    layers.Input(shape=(32, 32, 1)),\n",
        "    layers.MaxPooling2D((2, 2)),\n",
        "    layers.Conv2D(32, (3, 3), activation='relu'),\n",
        "    layers.MaxPooling2D((2, 2)),\n",
        "    layers.Flatten(),\n",
        "    layers.Dense(128, activation='relu'),\n",
        "    layers.Dense(512, activation='relu'),\n",
        "    layers.Dense(1, activation='linear')\n",
        "])\n",
        "\n",
        "# Compile the model\n",
        "model.compile(optimizer='adam', loss='mean_squared_error', metrics=['mae'])\n",
        "# Train the model\n",
        "history = model.fit(X_train, y_train, epochs=5, batch_size=16, validation_data=(X_val, y_val))"
      ],
      "metadata": {
        "colab": {
          "base_uri": "https://localhost:8080/"
        },
        "id": "RZgZvm-Oaw5x",
        "outputId": "6da8ec03-1cb8-44e3-8321-7c010c3f88d0"
      },
      "execution_count": 7,
      "outputs": [
        {
          "output_type": "stream",
          "name": "stdout",
          "text": [
            "Epoch 1/5\n",
            "\u001b[1m11700/11700\u001b[0m \u001b[32m━━━━━━━━━━━━━━━━━━━━\u001b[0m\u001b[37m\u001b[0m \u001b[1m26s\u001b[0m 2ms/step - loss: 2.0410 - mae: 1.0696 - val_loss: 1.4637 - val_mae: 0.9445\n",
            "Epoch 2/5\n",
            "\u001b[1m11700/11700\u001b[0m \u001b[32m━━━━━━━━━━━━━━━━━━━━\u001b[0m\u001b[37m\u001b[0m \u001b[1m21s\u001b[0m 2ms/step - loss: 1.1058 - mae: 0.8497 - val_loss: 1.1365 - val_mae: 0.8645\n",
            "Epoch 3/5\n",
            "\u001b[1m11700/11700\u001b[0m \u001b[32m━━━━━━━━━━━━━━━━━━━━\u001b[0m\u001b[37m\u001b[0m \u001b[1m21s\u001b[0m 2ms/step - loss: 1.0530 - mae: 0.8223 - val_loss: 1.1197 - val_mae: 0.8472\n",
            "Epoch 4/5\n",
            "\u001b[1m11700/11700\u001b[0m \u001b[32m━━━━━━━━━━━━━━━━━━━━\u001b[0m\u001b[37m\u001b[0m \u001b[1m21s\u001b[0m 2ms/step - loss: 1.0258 - mae: 0.8089 - val_loss: 1.2606 - val_mae: 0.8771\n",
            "Epoch 5/5\n",
            "\u001b[1m11700/11700\u001b[0m \u001b[32m━━━━━━━━━━━━━━━━━━━━\u001b[0m\u001b[37m\u001b[0m \u001b[1m21s\u001b[0m 2ms/step - loss: 0.9922 - mae: 0.7926 - val_loss: 1.1162 - val_mae: 0.8340\n"
          ]
        }
      ]
    },
    {
      "cell_type": "code",
      "source": [
        "loss, mae = model.evaluate(X_test, y_test, verbose=0)\n",
        "print('Test loss:', loss)\n",
        "print('Test MAE:', mae)"
      ],
      "metadata": {
        "colab": {
          "base_uri": "https://localhost:8080/"
        },
        "id": "V1YpQZcgZAgF",
        "outputId": "649be405-70f0-44a4-c630-430e90658e45"
      },
      "execution_count": 9,
      "outputs": [
        {
          "output_type": "stream",
          "name": "stdout",
          "text": [
            "Test loss: 1.080154299736023\n",
            "Test MAE: 0.8252202272415161\n"
          ]
        }
      ]
    }
  ]
}